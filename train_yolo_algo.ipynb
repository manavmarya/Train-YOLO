{
  "nbformat": 4,
  "nbformat_minor": 0,
  "metadata": {
    "colab": {
      "name": "train_yolo algo.ipynb",
      "provenance": [],
      "collapsed_sections": [],
      "authorship_tag": "ABX9TyNwk5HgU+TXQ5qtgTKJ1xsk",
      "include_colab_link": true
    },
    "kernelspec": {
      "name": "python3",
      "display_name": "Python 3"
    },
    "language_info": {
      "name": "python"
    }
  },
  "cells": [
    {
      "cell_type": "markdown",
      "metadata": {
        "id": "view-in-github",
        "colab_type": "text"
      },
      "source": [
        "<a href=\"https://colab.research.google.com/github/manavmarya/Train-YOLO/blob/main/train_yolo_algo.ipynb\" target=\"_parent\"><img src=\"https://colab.research.google.com/assets/colab-badge.svg\" alt=\"Open In Colab\"/></a>"
      ]
    },
    {
      "cell_type": "code",
      "metadata": {
        "id": "AkXv6mpfkgQS"
      },
      "source": [
        "import numpy as nm\n",
        "import pandas as pd\n",
        "import glob\n",
        "import os\n",
        "import sys \n",
        "import shutil\n",
        "from shutil import copyfile\n",
        "\n",
        "def csv_to_df(filename_url):\n",
        "    df = pd.read_csv(filename_url)\n",
        "    return df\n",
        "\n",
        "def format_df(annotation_df, filesize):\n",
        "    '''Converting xyxy to xywh'''\n",
        "    annotation_df[\"x1\"] = annotation_df[\"x1\"]/filesize[0] \n",
        "    annotation_df[\"y1\"] = annotation_df[\"y1\"]/filesize[1]\n",
        "    annotation_df[\"w\"] = abs(annotation_df[\"x2\"]-annotation_df[\"x1\"])/filesize[0]\n",
        "    annotation_df[\"h\"] = abs(annotation_df[\"y2\"]-annotation_df[\"y1\"])/filesize[1]\n",
        "    cols = [\"x1\", \"y1\", \"w\", \"h\"]\n",
        "    annotation_df[cols] = annotation_df[cols].clip(upper=0.999)\n",
        "    return annotation_df\n",
        "\n",
        "def split_train_valid(split_pct):\n",
        "    '''Splitting training and validation datasets based on split_pct (Default is 90:10)'''\n",
        "    current_dir = \"./data/images\"\n",
        "    file_train = open(\"data/train.txt\", \"w\")  \n",
        "    file_val = open(\"data/val.txt\", \"w\")  \n",
        "    counter = 1  \n",
        "    index_test = round(100 / split_pct)  \n",
        "    for fullpath in glob.glob(current_dir + '/*.jpg'):  \n",
        "        title, ext = os.path.splitext(os.path.basename(fullpath))\n",
        "        if counter == index_test:\n",
        "            counter = 1\n",
        "            file_val.write(\"./images\" + \"/\" + title + \".jpg\" + \"\\n\")\n",
        "        else:\n",
        "            file_train.write(\"./images\" + \"/\" + title + \".jpg\" + \"\\n\")\n",
        "        counter = counter + 1\n",
        "    file_train.close()\n",
        "    file_val.close()\n",
        "\n",
        "def create_labels(df):\n",
        "    current_dir = \"./data/labels\"\n",
        "    for i in df.index:\n",
        "        curr_filename = df[\"image_name\"][i]\n",
        "        if i == 0 or curr_filename != prev_filename:\n",
        "            if i != 0:\n",
        "                label_file.close()\n",
        "            label_file = open(\"data/labels/\" + df[\"image_name\"][i].split(\".\")[0] + \".txt\", \"w\")\n",
        "        label_file.write(\"0 \" + str(df[\"x1\"][i]) + \" \" + str(df[\"y1\"][i]) + \" \" + str(df[\"w\"][i]) + \" \" + str(df[\"h\"][i]) + \"\\n\")\n",
        "        prev_filename = curr_filename\n",
        "        \n",
        "\n",
        "annotation_df = csv_to_df(\"WebMarket_coco_gt_object.csv\")\n",
        "annotation_df = format_df(annotation_df, [2272,1704])\n",
        "split_train_valid(10)\n",
        "create_labels(annotation_df)\n",
        "\n"
      ],
      "execution_count": 32,
      "outputs": []
    },
    {
      "cell_type": "markdown",
      "metadata": {
        "id": "osBsdOt1JQgf"
      },
      "source": [
        "Using YOLO git (already done, hence commented)"
      ]
    },
    {
      "cell_type": "code",
      "metadata": {
        "id": "UIfwiTLULOFF",
        "colab": {
          "base_uri": "https://localhost:8080/"
        },
        "outputId": "8b160ccb-edbc-4b1b-c99f-96a20e35e78d"
      },
      "source": [
        "#!git clone  'https://github.com/ultralytics/yolov5.git'\n",
        "#!pip install -qr './yolov5/requirements.txt'"
      ],
      "execution_count": 11,
      "outputs": [
        {
          "output_type": "stream",
          "text": [
            "\u001b[?25l\r\u001b[K     |▌                               | 10kB 20.0MB/s eta 0:00:01\r\u001b[K     |█                               | 20kB 24.3MB/s eta 0:00:01\r\u001b[K     |█▌                              | 30kB 18.1MB/s eta 0:00:01\r\u001b[K     |██                              | 40kB 15.5MB/s eta 0:00:01\r\u001b[K     |██▋                             | 51kB 8.3MB/s eta 0:00:01\r\u001b[K     |███                             | 61kB 8.1MB/s eta 0:00:01\r\u001b[K     |███▋                            | 71kB 8.0MB/s eta 0:00:01\r\u001b[K     |████▏                           | 81kB 8.9MB/s eta 0:00:01\r\u001b[K     |████▋                           | 92kB 9.3MB/s eta 0:00:01\r\u001b[K     |█████▏                          | 102kB 7.8MB/s eta 0:00:01\r\u001b[K     |█████▋                          | 112kB 7.8MB/s eta 0:00:01\r\u001b[K     |██████▏                         | 122kB 7.8MB/s eta 0:00:01\r\u001b[K     |██████▊                         | 133kB 7.8MB/s eta 0:00:01\r\u001b[K     |███████▏                        | 143kB 7.8MB/s eta 0:00:01\r\u001b[K     |███████▊                        | 153kB 7.8MB/s eta 0:00:01\r\u001b[K     |████████▎                       | 163kB 7.8MB/s eta 0:00:01\r\u001b[K     |████████▊                       | 174kB 7.8MB/s eta 0:00:01\r\u001b[K     |█████████▎                      | 184kB 7.8MB/s eta 0:00:01\r\u001b[K     |█████████▉                      | 194kB 7.8MB/s eta 0:00:01\r\u001b[K     |██████████▎                     | 204kB 7.8MB/s eta 0:00:01\r\u001b[K     |██████████▉                     | 215kB 7.8MB/s eta 0:00:01\r\u001b[K     |███████████▎                    | 225kB 7.8MB/s eta 0:00:01\r\u001b[K     |███████████▉                    | 235kB 7.8MB/s eta 0:00:01\r\u001b[K     |████████████▍                   | 245kB 7.8MB/s eta 0:00:01\r\u001b[K     |████████████▉                   | 256kB 7.8MB/s eta 0:00:01\r\u001b[K     |█████████████▍                  | 266kB 7.8MB/s eta 0:00:01\r\u001b[K     |██████████████                  | 276kB 7.8MB/s eta 0:00:01\r\u001b[K     |██████████████▍                 | 286kB 7.8MB/s eta 0:00:01\r\u001b[K     |███████████████                 | 296kB 7.8MB/s eta 0:00:01\r\u001b[K     |███████████████▍                | 307kB 7.8MB/s eta 0:00:01\r\u001b[K     |████████████████                | 317kB 7.8MB/s eta 0:00:01\r\u001b[K     |████████████████▌               | 327kB 7.8MB/s eta 0:00:01\r\u001b[K     |█████████████████               | 337kB 7.8MB/s eta 0:00:01\r\u001b[K     |█████████████████▌              | 348kB 7.8MB/s eta 0:00:01\r\u001b[K     |██████████████████              | 358kB 7.8MB/s eta 0:00:01\r\u001b[K     |██████████████████▌             | 368kB 7.8MB/s eta 0:00:01\r\u001b[K     |███████████████████             | 378kB 7.8MB/s eta 0:00:01\r\u001b[K     |███████████████████▋            | 389kB 7.8MB/s eta 0:00:01\r\u001b[K     |████████████████████            | 399kB 7.8MB/s eta 0:00:01\r\u001b[K     |████████████████████▋           | 409kB 7.8MB/s eta 0:00:01\r\u001b[K     |█████████████████████           | 419kB 7.8MB/s eta 0:00:01\r\u001b[K     |█████████████████████▋          | 430kB 7.8MB/s eta 0:00:01\r\u001b[K     |██████████████████████▏         | 440kB 7.8MB/s eta 0:00:01\r\u001b[K     |██████████████████████▋         | 450kB 7.8MB/s eta 0:00:01\r\u001b[K     |███████████████████████▏        | 460kB 7.8MB/s eta 0:00:01\r\u001b[K     |███████████████████████▊        | 471kB 7.8MB/s eta 0:00:01\r\u001b[K     |████████████████████████▏       | 481kB 7.8MB/s eta 0:00:01\r\u001b[K     |████████████████████████▊       | 491kB 7.8MB/s eta 0:00:01\r\u001b[K     |█████████████████████████▏      | 501kB 7.8MB/s eta 0:00:01\r\u001b[K     |█████████████████████████▊      | 512kB 7.8MB/s eta 0:00:01\r\u001b[K     |██████████████████████████▎     | 522kB 7.8MB/s eta 0:00:01\r\u001b[K     |██████████████████████████▊     | 532kB 7.8MB/s eta 0:00:01\r\u001b[K     |███████████████████████████▎    | 542kB 7.8MB/s eta 0:00:01\r\u001b[K     |███████████████████████████▉    | 552kB 7.8MB/s eta 0:00:01\r\u001b[K     |████████████████████████████▎   | 563kB 7.8MB/s eta 0:00:01\r\u001b[K     |████████████████████████████▉   | 573kB 7.8MB/s eta 0:00:01\r\u001b[K     |█████████████████████████████▍  | 583kB 7.8MB/s eta 0:00:01\r\u001b[K     |█████████████████████████████▉  | 593kB 7.8MB/s eta 0:00:01\r\u001b[K     |██████████████████████████████▍ | 604kB 7.8MB/s eta 0:00:01\r\u001b[K     |██████████████████████████████▉ | 614kB 7.8MB/s eta 0:00:01\r\u001b[K     |███████████████████████████████▍| 624kB 7.8MB/s eta 0:00:01\r\u001b[K     |████████████████████████████████| 634kB 7.8MB/s eta 0:00:01\r\u001b[K     |████████████████████████████████| 645kB 7.8MB/s \n",
            "\u001b[?25h"
          ],
          "name": "stdout"
        }
      ]
    },
    {
      "cell_type": "code",
      "metadata": {
        "id": "IgIO3balXB-B"
      },
      "source": [
        "!echo -e 'train: /content/data/train.txt\\nval: /content/data/val.txt\\n\\nnc: 1\\nnames: ['Objects']' >> supermarket.yaml\n",
        "!cat 'supermarket.yaml'\n",
        "shutil.copyfile('/content/supermarket.yaml', '/content/yolov5/supermarket.yaml')\n",
        "!sed -i 's/nc: 80/nc: 1/g' ./yolov5/models/yolov5s.yaml\n",
        "!python yolov5/train.py --img 640 --batch 8 --epochs 10 --data supermarket.yaml --cfg models/yolov5s.yaml --name Supermarket"
      ],
      "execution_count": null,
      "outputs": []
    },
    {
      "cell_type": "code",
      "metadata": {
        "id": "KfNpzxAhTj3I"
      },
      "source": [
        "!python yolov5/detect.py --source /content/data/valid/ --weights '/content/runs/train/Supermarket4/weights/best.pt' "
      ],
      "execution_count": null,
      "outputs": []
    }
  ]
}