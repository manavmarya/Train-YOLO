{
  "nbformat": 4,
  "nbformat_minor": 0,
  "metadata": {
    "colab": {
      "name": "train_yolo algo.ipynb",
      "provenance": [],
      "collapsed_sections": []
    },
    "kernelspec": {
      "name": "python3",
      "display_name": "Python 3"
    },
    "language_info": {
      "name": "python"
    }
  },
  "cells": [
    {
      "cell_type": "code",
      "metadata": {
        "id": "AkXv6mpfkgQS"
      },
      "source": [
        "import numpy as nm\n",
        "import pandas as pd\n",
        "import glob\n",
        "import os\n",
        "import sys \n",
        "import shutil\n",
        "from shutil import copyfile\n",
        "\n",
        "def csv_to_df(filename_url):\n",
        "    df = pd.read_csv(filename_url)\n",
        "    return df\n",
        "\n",
        "def format_df(annotation_df, filesize):\n",
        "    '''Converting xyxy to xywh'''\n",
        "    annotation_df[\"x_mid\"] = (annotation_df[\"x1\"] + annotation_df[\"x2\"])/(2 * filesize[0]) \n",
        "    annotation_df[\"y_mid\"] = (annotation_df[\"y1\"] + annotation_df[\"y2\"])/(2 * filesize[1])\n",
        "    annotation_df[\"w\"] = abs(annotation_df[\"x2\"]-annotation_df[\"x1\"])/filesize[0]\n",
        "    annotation_df[\"h\"] = abs(annotation_df[\"y2\"]-annotation_df[\"y1\"])/filesize[1]\n",
        "    cols = [\"x1\", \"y1\", \"w\", \"h\"]\n",
        "    annotation_df[cols] = annotation_df[cols].clip(upper=0.999)\n",
        "    return annotation_df\n",
        "\n",
        "def split_train_valid(split_pct):\n",
        "    '''Splitting training and validation datasets based on split_pct (Default is 90:10)'''\n",
        "    current_dir = \"./data/images\"\n",
        "    file_train = open(\"data/train.txt\", \"w\")  \n",
        "    file_val = open(\"data/val.txt\", \"w\")  \n",
        "    counter = 1  \n",
        "    index_test = round(100 / split_pct)  \n",
        "    for fullpath in glob.glob(current_dir + '/*.jpg'):\n",
        "        title, ext = os.path.splitext(os.path.basename(fullpath))\n",
        "        if counter == index_test:\n",
        "            counter = 1\n",
        "            file_val.write(\"./images\" + \"/\" + title + \".jpg\" + \"\\n\")\n",
        "        else:\n",
        "            file_train.write(\"./images\" + \"/\" + title + \".jpg\" + \"\\n\")\n",
        "        counter = counter + 1\n",
        "    file_train.close()\n",
        "    file_val.close()\n",
        "\n",
        "def create_labels(df):\n",
        "    current_dir = \"./data/labels\"\n",
        "    for i in df.index:\n",
        "        curr_filename = df[\"image_name\"][i]\n",
        "        if i == 0 or curr_filename != prev_filename:\n",
        "            if i != 0:\n",
        "                label_file.close()\n",
        "            label_file = open(\"data/labels/\" + df[\"image_name\"][i].split(\".\")[0] + \".txt\", \"w\")\n",
        "        label_file.write(\"0 \" + str(df[\"x_mid\"][i]) + \" \" + str(df[\"y_mid\"][i]) + \" \" + str(df[\"w\"][i]) + \" \" + str(df[\"h\"][i]) + \"\\n\")\n",
        "        prev_filename = curr_filename\n",
        "        \n",
        "\n",
        "annotation_df = csv_to_df(\"WebMarket_coco_gt_object.csv\")\n",
        "annotation_df = format_df(annotation_df, [2272,1704])\n",
        "split_train_valid(10)\n",
        "create_labels(annotation_df)\n",
        "\n"
      ],
      "execution_count": null,
      "outputs": []
    },
    {
      "cell_type": "markdown",
      "metadata": {
        "id": "osBsdOt1JQgf"
      },
      "source": [
        "Using YOLO git (already done, hence commented)"
      ]
    },
    {
      "cell_type": "code",
      "metadata": {
        "id": "UIfwiTLULOFF",
        "colab": {
          "base_uri": "https://localhost:8080/"
        },
        "outputId": "36d7506d-5b3c-4e43-d61f-a364ce8d9e30"
      },
      "source": [
        "!git clone  'https://github.com/ultralytics/yolov5.git'\n",
        "!pip install -qr './yolov5/requirements.txt'"
      ],
      "execution_count": null,
      "outputs": [
        {
          "output_type": "stream",
          "text": [
            "Cloning into 'yolov5'...\n",
            "remote: Enumerating objects: 6378, done.\u001b[K\n",
            "remote: Counting objects: 100% (97/97), done.\u001b[K\n",
            "remote: Compressing objects: 100% (78/78), done.\u001b[K\n",
            "remote: Total 6378 (delta 52), reused 45 (delta 19), pack-reused 6281\u001b[K\n",
            "Receiving objects: 100% (6378/6378), 8.56 MiB | 31.97 MiB/s, done.\n",
            "Resolving deltas: 100% (4357/4357), done.\n",
            "\u001b[K     |████████████████████████████████| 645kB 6.7MB/s \n",
            "\u001b[?25h"
          ],
          "name": "stdout"
        }
      ]
    },
    {
      "cell_type": "code",
      "metadata": {
        "id": "IgIO3balXB-B"
      },
      "source": [
        "!echo -e 'train: /content/data/train.txt\\nval: /content/data/val.txt\\n\\nnc: 1\\nnames: ['Objects']' >> supermarket.yaml\n",
        "!cat 'supermarket.yaml'\n",
        "shutil.copyfile('/content/supermarket.yaml', '/content/yolov5/supermarket.yaml')\n",
        "!sed -i 's/nc: 80/nc: 1/g' ./yolov5/models/yolov5s.yaml\n",
        "!python yolov5/train.py --img 640 --batch 8 --epochs 8 --data supermarket.yaml --cfg models/yolov5s.yaml --name Supermarket"
      ],
      "execution_count": null,
      "outputs": []
    },
    {
      "cell_type": "code",
      "metadata": {
        "id": "KfNpzxAhTj3I"
      },
      "source": [
        "!python yolov5/detect.py --source '/content/data/valid/' --weights '/content/runs/train/Supermarket3/weights/best.pt' "
      ],
      "execution_count": null,
      "outputs": []
    }
  ]
}